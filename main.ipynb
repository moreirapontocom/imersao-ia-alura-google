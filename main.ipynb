{
  "nbformat": 4,
  "nbformat_minor": 0,
  "metadata": {
    "colab": {
      "provenance": [],
      "authorship_tag": "ABX9TyOOdVjH8dQD1qf7Xpj2Vyao",
      "include_colab_link": true
    },
    "kernelspec": {
      "name": "python3",
      "display_name": "Python 3"
    },
    "language_info": {
      "name": "python"
    }
  },
  "cells": [
    {
      "cell_type": "markdown",
      "metadata": {
        "id": "view-in-github",
        "colab_type": "text"
      },
      "source": [
        "<a href=\"https://colab.research.google.com/github/moreirapontocom/imersao-ia-alura-google/blob/main/main.ipynb\" target=\"_parent\"><img src=\"https://colab.research.google.com/assets/colab-badge.svg\" alt=\"Open In Colab\"/></a>"
      ]
    },
    {
      "cell_type": "code",
      "source": [
        "!pip install -U -q google-generativeai"
      ],
      "metadata": {
        "id": "3lRJv4cxbB4o"
      },
      "execution_count": 175,
      "outputs": []
    },
    {
      "cell_type": "code",
      "source": [
        "import google.generativeai as genai\n",
        "import requests as req\n",
        "import json\n",
        "import random\n",
        "import textwrap\n",
        "from IPython.display import display, Markdown\n",
        "from google.colab import userdata\n",
        "\n",
        "API_ENDPOINT = userdata.get('API_ENDPOINT')\n",
        "API_KEY = userdata.get('API_KEY')\n",
        "genai.configure(api_key=API_KEY)\n",
        "model = genai.GenerativeModel(\"models/gemini-pro\")\n",
        "\n",
        "model.start_chat()"
      ],
      "metadata": {
        "id": "GLDXrpRgdbG1"
      },
      "execution_count": null,
      "outputs": []
    },
    {
      "cell_type": "code",
      "source": [
        "# Lista todas as mensagens já salvas no banco de dados\n",
        "# e adiciona na variável \"mensagens\"\n",
        "\n",
        "def getMensagens():\n",
        "  response = req.get(url=f\"{API_ENDPOINT}/alura-desafio/mensagens\")\n",
        "  if response.status_code != 200:\n",
        "    return []\n",
        "\n",
        "  return response.json()['messages']\n",
        "\n",
        "mensagens = getMensagens()\n",
        "totalMensagens = len(mensagens)"
      ],
      "metadata": {
        "id": "m_tRO_XB43KV"
      },
      "execution_count": 179,
      "outputs": []
    },
    {
      "cell_type": "code",
      "source": [
        "# Pega uma mensagem aleatória e exibe na tela.\n",
        "\n",
        "mensagens = getMensagens()\n",
        "random_index = random.randint(0, len(mensagens)-1)\n",
        "random_message = mensagens[random_index]\n",
        "\n",
        "display(Markdown(f\"![Recebam nossos abraços](https://cdn-icons-png.flaticon.com/256/1361/1361323.png \"\")\"))\n",
        "\n",
        "display(Markdown(f\"Mensagem de paz\"))\n",
        "display(Markdown(f\"#\\\"{random_message['message']}\\\"\"))\n"
      ],
      "metadata": {
        "colab": {
          "base_uri": "https://localhost:8080/",
          "height": 397
        },
        "id": "IuiuZMyK5PoJ",
        "outputId": "36300df1-bc94-446b-f7d0-fb5d5c999b4f"
      },
      "execution_count": 181,
      "outputs": [
        {
          "output_type": "display_data",
          "data": {
            "text/plain": [
              "<IPython.core.display.Markdown object>"
            ],
            "text/markdown": "![Recebam nossos abraços](https://cdn-icons-png.flaticon.com/256/1361/1361323.png )"
          },
          "metadata": {}
        },
        {
          "output_type": "display_data",
          "data": {
            "text/plain": [
              "<IPython.core.display.Markdown object>"
            ],
            "text/markdown": "Mensagem de paz"
          },
          "metadata": {}
        },
        {
          "output_type": "display_data",
          "data": {
            "text/plain": [
              "<IPython.core.display.Markdown object>"
            ],
            "text/markdown": "#\"Espero que todos possam se recuperar desta tragédia e que Deus traga muito conforto àqueles que perderam amigos e familiares.\""
          },
          "metadata": {}
        }
      ]
    },
    {
      "cell_type": "code",
      "execution_count": 159,
      "metadata": {
        "colab": {
          "base_uri": "https://localhost:8080/"
        },
        "id": "96J4xqflZvmF",
        "outputId": "09447f18-5e02-4690-8d93-ebd45a121159"
      },
      "outputs": [
        {
          "name": "stdout",
          "output_type": "stream",
          "text": [
            "Escreva uma mensagem de conforto para as pessoas afetadas pelas chuvas no RS\n",
            "Desejamos que todos recuperem os bens perdidos nesta tragédia e que Deus traga conforto àqueles que perderam seus entes queridos.\n"
          ]
        }
      ],
      "source": [
        "# Solicita que o usuário escreva uma mensagem\n",
        "# Adiciona o input do usuário em \"user_message\"\n",
        "\n",
        "print(\"Escreva uma mensagem de conforto para as pessoas afetadas pelas chuvas no RS\")\n",
        "user_message = input()"
      ]
    },
    {
      "cell_type": "code",
      "source": [
        "# Concatena o meu prompt com a mensagem que o usuário escreveu\n",
        "# para fazer a solicitação da análise e adicionar alguns filtros\n",
        "# Estou solicitando a resposta num formato específico para decidir salvar\n",
        "# ou não no banco de dados dependendo do resultado da análise pelo modelo.\n",
        "\n",
        "message_to_analyze = \"\"\"Analise este texto para detectar algum tipo de abuso,\n",
        "  discurso de ódio, xingamentos ou qualquer coisa ofensiva.\n",
        "  Me informe também, em uma única palavra, o resultado da análise.\n",
        "  Me responda APENAS com \"ofensivo\" ou \"nao_ofensivo\".\n",
        "  Analise este texto\"\"\"\n",
        "\n",
        "# Envia a solicitação de análise para o model\n",
        "\n",
        "response = model.generate_content(f'{message_to_analyze}:{user_message}')\n",
        "responseText = response.text if response.text else '{message: \"error\"}'\n",
        "\n",
        "print(responseText)"
      ],
      "metadata": {
        "colab": {
          "base_uri": "https://localhost:8080/",
          "height": 34
        },
        "id": "1znNFf4Ia6aP",
        "outputId": "757bd94d-f243-4700-b3e3-a2f0d4b29a82"
      },
      "execution_count": 176,
      "outputs": [
        {
          "output_type": "stream",
          "name": "stdout",
          "text": [
            "nao_ofensivo\n"
          ]
        }
      ]
    },
    {
      "cell_type": "code",
      "source": [
        "# Definição da função que vai salvar a frase (input) do usuário no banco de dados\n",
        "\n",
        "def saveMessage(modelConclusion):\n",
        "  data = { \"message\": user_message, \"model_conclusion\": modelConclusion }\n",
        "  req.post(url=f\"{API_ENDPOINT}/alura-desafio/mensagens\", json=data)\n",
        "  return\n",
        "\n",
        "finalMessage = \"\"\n",
        "\n",
        "# Se o modelo detectou o conteúdo (input do usuário) como \"nao_ofensivo\",\n",
        "# então a frase será salva no banco de dados (saveMessage()) e também solicito uma nova\n",
        "# mensagem para o modelo, pedindo um agradecimento.\n",
        "# Se não - conteúdo detectado como \"ofensivo\" - o modelo deverá\n",
        "# responder que a frase não será salva.\n",
        "\n",
        "if responseText == \"nao_ofensivo\":\n",
        "  saveMessage(responseText)\n",
        "  finalMessage = \"\"\"Escreva uma mensagem, de no máximo 2 linhas, de\n",
        "    agradecimento ao usuário por ter enviado uma bela mensagem.\n",
        "    Escreva em nome de um grupo de pessoas agradecidas.\n",
        "    Não adicione o nome do usuário.\n",
        "    Informe também que a mensagem foi salva e será enviada para aqueles\n",
        "    que precisam ouvir uma palavra de esperança.\"\"\"\n",
        "else:\n",
        "  finalMessage = \"\"\"Informe ao usuário que a mensagem não será\n",
        "    publicada pois foi considerada ofensiva. Diga também que este é um\n",
        "    momento delicado e que devemos ter empatia pelo próximo.\"\"\"\n",
        "\n",
        "finalMessageContent = model.generate_content(finalMessage).text\n",
        "\n",
        "display(Markdown(f\"**{finalMessageContent}**\"))"
      ],
      "metadata": {
        "colab": {
          "base_uri": "https://localhost:8080/",
          "height": 63
        },
        "id": "HY4ZotHDg515",
        "outputId": "37867b5e-8bcd-4138-c26f-6720b13f0627"
      },
      "execution_count": 177,
      "outputs": [
        {
          "output_type": "display_data",
          "data": {
            "text/plain": [
              "<IPython.core.display.Markdown object>"
            ],
            "text/markdown": "**Gratos pela sua mensagem inspiradora que encheu nossos corações de alegria. Ela será compartilhada com aqueles que necessitam de palavras de esperança.**"
          },
          "metadata": {}
        }
      ]
    }
  ]
}